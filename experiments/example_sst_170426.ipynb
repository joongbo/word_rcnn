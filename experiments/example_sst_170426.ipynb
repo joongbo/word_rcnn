{
 "cells": [
  {
   "cell_type": "code",
   "execution_count": 1,
   "metadata": {
    "collapsed": false
   },
   "outputs": [
    {
     "name": "stderr",
     "output_type": "stream",
     "text": [
      "WARNING (theano.sandbox.cuda): The cuda backend is deprecated and will be removed in the next release (v0.10).  Please switch to the gpuarray backend. You can get more information about how to switch at this URL:\n",
      " https://github.com/Theano/Theano/wiki/Converting-to-the-new-gpu-back-end%28gpuarray%29\n",
      "\n",
      "Using gpu device 1: GeForce GTX 1080 (CNMeM is disabled, cuDNN not available)\n"
     ]
    }
   ],
   "source": [
    "import _init_path\n",
    "\n",
    "import theano.sandbox.cuda\n",
    "theano.sandbox.cuda.use(\"gpu1\")"
   ]
  },
  {
   "cell_type": "code",
   "execution_count": 7,
   "metadata": {
    "collapsed": true
   },
   "outputs": [],
   "source": [
    "import numpy as np\n",
    "\n",
    "from datamanagement import *\n",
    "from modelmanagement import *\n",
    "from backpropagations import *\n",
    "from activations import *\n",
    "\n",
    "from baseModel import building_model"
   ]
  },
  {
   "cell_type": "code",
   "execution_count": 3,
   "metadata": {
    "collapsed": false
   },
   "outputs": [
    {
     "name": "stdout",
     "output_type": "stream",
     "text": [
      "load data ... \tdone.\n"
     ]
    }
   ],
   "source": [
    "print 'load data ...',\n",
    "data, vocab = load_sst(data_file='../data/pickles/sst_word_so_mincut1.pkl')\n",
    "word2vec, word2idx = load_w2v(data_file='../data/pickles/sst_word2vec_mincut1.pkl')\n",
    "assert len(vocab)==len(word2idx)\n",
    "print '\\tdone.'"
   ]
  },
  {
   "cell_type": "code",
   "execution_count": 4,
   "metadata": {
    "collapsed": false
   },
   "outputs": [],
   "source": [
    "opts = dict()\n",
    "# model \n",
    "opts['miniBatch'] = 50\n",
    "# embedding\n",
    "opts['vocaSize'] = len(vocab)\n",
    "opts['embdSize'] = 300\n",
    "opts['embdUpdate'] = False\n",
    "# recurrent convolutional layer\n",
    "opts['maxLen'] = max(data[0][2])\n",
    "opts['maxLen_test'] = max(data[2][2])\n",
    "opts['fltrRC'] = [[(30,5,5)]]\n",
    "opts['borderMode'] = 'full' # one of ['valid', 'full', 'half']\n",
    "opts['numStep'] = 1\n",
    "opts['activationRC'] = relu # [elu, relu, tanh, iden, sigm]\n",
    "opts['activationFC'] = tanh # [elu, relu, tanh, iden, sigm]\n",
    "# pooling\n",
    "opts['pool'] = True\n",
    "opts['poolMode'] ='max' # one of ['d_k_max', 'k_max', 'max', 'spatial]\n",
    "opts['kTop'] = 1\n",
    "# multi-layer perceptron\n",
    "opts['outUnit'] = [5]\n",
    "# normalizations\n",
    "opts['LRN'] = True # local response normalization\n",
    "opts['dropRC'] = True\n",
    "opts['dropFC'] = True\n",
    "opts['dropRate'] = 0.5\n",
    "# generalizations\n",
    "opts['L1'] = 0 # L1-norm weight decay\n",
    "opts['L2'] = 1e-4 # L2-norm weight decay\n",
    "# training parameters\n",
    "opts['updateRule'] = adam # one of ['adam', 'adadelta', 'adagrad', 'sgd', 'sgd_momentum']\n",
    "\n",
    "learning_opts = dict()\n",
    "# learning options\n",
    "learning_opts['lr'] = 0.001 # initial learning rate\n",
    "learning_opts['lrDecay'] = 0.5\n",
    "learning_opts['lrDecayStep'] = 5\n",
    "learning_opts['maxEpoch'] = 15"
   ]
  },
  {
   "cell_type": "code",
   "execution_count": 5,
   "metadata": {
    "collapsed": false
   },
   "outputs": [
    {
     "name": "stdout",
     "output_type": "stream",
     "text": [
      "fitting length of sentences ... \tdone.\n",
      "fitting mini-batch size for training data ... \tdone.\n"
     ]
    }
   ],
   "source": [
    "print 'fitting length of sentences ...',\n",
    "train_data = fit_length(data[0], max_len=opts['maxLen'])\n",
    "valid_data = fit_length(data[1], max_len=opts['maxLen_test'])\n",
    "test_data = fit_length(data[2], max_len=opts['maxLen_test'])\n",
    "print '\\tdone.'\n",
    "\n",
    "print 'fitting mini-batch size for training data ...',\n",
    "train_data = fit_batch_add(train_data, opts['miniBatch'])\n",
    "print '\\tdone.'"
   ]
  },
  {
   "cell_type": "markdown",
   "metadata": {
    "collapsed": true
   },
   "source": [
    "# experiment"
   ]
  },
  {
   "cell_type": "code",
   "execution_count": 8,
   "metadata": {
    "collapsed": false
   },
   "outputs": [
    {
     "name": "stdout",
     "output_type": "stream",
     "text": [
      "build layers of RCNN ... \tdone.\n",
      "build theano function of validation model ... \tdone.\n",
      "build cost function and get update rule ... \tdone.\n",
      "build theano function of training model ... \tdone.\n",
      "build testing layers of RCNN ... \tdone.\n",
      "build theano function of testing model ... \tdone.\n"
     ]
    }
   ],
   "source": [
    "train_model, valid_model, test_model, layers, params = building_model(opts)"
   ]
  },
  {
   "cell_type": "code",
   "execution_count": 9,
   "metadata": {
    "collapsed": false
   },
   "outputs": [
    {
     "ename": "ValueError",
     "evalue": "('object of too small depth for desired array', 'Container name \"W\"')",
     "output_type": "error",
     "traceback": [
      "\u001b[0;31m\u001b[0m",
      "\u001b[0;31mValueError\u001b[0mTraceback (most recent call last)",
      "\u001b[0;32m<ipython-input-9-04cffc36fc79>\u001b[0m in \u001b[0;36m<module>\u001b[0;34m()\u001b[0m\n\u001b[0;32m----> 1\u001b[0;31m \u001b[0minitializing_model\u001b[0m\u001b[0;34m(\u001b[0m\u001b[0mlayers\u001b[0m\u001b[0;34m,\u001b[0m \u001b[0mparams\u001b[0m\u001b[0;34m,\u001b[0m \u001b[0msvd_initialize\u001b[0m\u001b[0;34m=\u001b[0m\u001b[0mFalse\u001b[0m\u001b[0;34m,\u001b[0m \u001b[0mw2v_pretrained\u001b[0m\u001b[0;34m=\u001b[0m\u001b[0mword2vec\u001b[0m\u001b[0;34m.\u001b[0m\u001b[0mastype\u001b[0m\u001b[0;34m(\u001b[0m\u001b[0mnp\u001b[0m\u001b[0;34m.\u001b[0m\u001b[0mfloat32\u001b[0m\u001b[0;34m)\u001b[0m\u001b[0;34m)\u001b[0m\u001b[0;34m\u001b[0m\u001b[0m\n\u001b[0m",
      "\u001b[0;32m/media/disk1/jbs_space/workspace/word_rcnn/experiments/../libs/utils/modelmanagement.py\u001b[0m in \u001b[0;36minitializing_model\u001b[0;34m(layers, params, svd_initialize, w2v_pretrained)\u001b[0m\n\u001b[1;32m    131\u001b[0m     \u001b[0mupdates\u001b[0m \u001b[0;34m=\u001b[0m \u001b[0mOrderedDict\u001b[0m\u001b[0;34m(\u001b[0m\u001b[0;34m)\u001b[0m\u001b[0;34m\u001b[0m\u001b[0m\n\u001b[1;32m    132\u001b[0m     \u001b[0;32mfor\u001b[0m \u001b[0mparam\u001b[0m\u001b[0;34m,\u001b[0m \u001b[0mnew_param\u001b[0m \u001b[0;32min\u001b[0m \u001b[0mzip\u001b[0m\u001b[0;34m(\u001b[0m\u001b[0mparams\u001b[0m\u001b[0;34m,\u001b[0m \u001b[0mnew_params\u001b[0m\u001b[0;34m)\u001b[0m\u001b[0;34m:\u001b[0m\u001b[0;34m\u001b[0m\u001b[0m\n\u001b[0;32m--> 133\u001b[0;31m         \u001b[0mparam\u001b[0m\u001b[0;34m.\u001b[0m\u001b[0mset_value\u001b[0m\u001b[0;34m(\u001b[0m\u001b[0mnew_param\u001b[0m\u001b[0;34m.\u001b[0m\u001b[0mget_value\u001b[0m\u001b[0;34m(\u001b[0m\u001b[0;34m)\u001b[0m\u001b[0;34m)\u001b[0m\u001b[0;34m\u001b[0m\u001b[0m\n\u001b[0m\u001b[1;32m    134\u001b[0m \u001b[0;34m\u001b[0m\u001b[0m\n\u001b[1;32m    135\u001b[0m     \u001b[0;32mif\u001b[0m \u001b[0mw2v_pretrained\u001b[0m \u001b[0;32mis\u001b[0m \u001b[0;32mnot\u001b[0m \u001b[0mNone\u001b[0m\u001b[0;34m:\u001b[0m\u001b[0;34m\u001b[0m\u001b[0m\n",
      "\u001b[0;32m/home/jbs/anaconda2/lib/python2.7/site-packages/theano/sandbox/cuda/var.pyc\u001b[0m in \u001b[0;36mset_value\u001b[0;34m(self, value, borrow)\u001b[0m\n\u001b[1;32m    100\u001b[0m                 \u001b[0;31m# in case this is a cuda_ndarray, we copy it\u001b[0m\u001b[0;34m\u001b[0m\u001b[0;34m\u001b[0m\u001b[0m\n\u001b[1;32m    101\u001b[0m                 \u001b[0mvalue\u001b[0m \u001b[0;34m=\u001b[0m \u001b[0mcopy\u001b[0m\u001b[0;34m.\u001b[0m\u001b[0mdeepcopy\u001b[0m\u001b[0;34m(\u001b[0m\u001b[0mvalue\u001b[0m\u001b[0;34m)\u001b[0m\u001b[0;34m\u001b[0m\u001b[0m\n\u001b[0;32m--> 102\u001b[0;31m         \u001b[0mself\u001b[0m\u001b[0;34m.\u001b[0m\u001b[0mcontainer\u001b[0m\u001b[0;34m.\u001b[0m\u001b[0mvalue\u001b[0m \u001b[0;34m=\u001b[0m \u001b[0mvalue\u001b[0m  \u001b[0;31m# this will copy a numpy ndarray\u001b[0m\u001b[0;34m\u001b[0m\u001b[0m\n\u001b[0m\u001b[1;32m    103\u001b[0m \u001b[0;34m\u001b[0m\u001b[0m\n\u001b[1;32m    104\u001b[0m     \u001b[0;32mdef\u001b[0m \u001b[0m__getitem__\u001b[0m\u001b[0;34m(\u001b[0m\u001b[0mself\u001b[0m\u001b[0;34m,\u001b[0m \u001b[0;34m*\u001b[0m\u001b[0margs\u001b[0m\u001b[0;34m)\u001b[0m\u001b[0;34m:\u001b[0m\u001b[0;34m\u001b[0m\u001b[0m\n",
      "\u001b[0;32m/home/jbs/anaconda2/lib/python2.7/site-packages/theano/gof/link.pyc\u001b[0m in \u001b[0;36m__set__\u001b[0;34m(self, value)\u001b[0m\n\u001b[1;32m    475\u001b[0m                 self.storage[0] = self.type.filter_inplace(value,\n\u001b[1;32m    476\u001b[0m                                                            \u001b[0mself\u001b[0m\u001b[0;34m.\u001b[0m\u001b[0mstorage\u001b[0m\u001b[0;34m[\u001b[0m\u001b[0;36m0\u001b[0m\u001b[0;34m]\u001b[0m\u001b[0;34m,\u001b[0m\u001b[0;34m\u001b[0m\u001b[0m\n\u001b[0;32m--> 477\u001b[0;31m                                                            **kwargs)\n\u001b[0m\u001b[1;32m    478\u001b[0m             \u001b[0;32melse\u001b[0m\u001b[0;34m:\u001b[0m\u001b[0;34m\u001b[0m\u001b[0m\n\u001b[1;32m    479\u001b[0m                 \u001b[0mself\u001b[0m\u001b[0;34m.\u001b[0m\u001b[0mstorage\u001b[0m\u001b[0;34m[\u001b[0m\u001b[0;36m0\u001b[0m\u001b[0;34m]\u001b[0m \u001b[0;34m=\u001b[0m \u001b[0mself\u001b[0m\u001b[0;34m.\u001b[0m\u001b[0mtype\u001b[0m\u001b[0;34m.\u001b[0m\u001b[0mfilter\u001b[0m\u001b[0;34m(\u001b[0m\u001b[0mvalue\u001b[0m\u001b[0;34m,\u001b[0m \u001b[0;34m**\u001b[0m\u001b[0mkwargs\u001b[0m\u001b[0;34m)\u001b[0m\u001b[0;34m\u001b[0m\u001b[0m\n",
      "\u001b[0;32m/home/jbs/anaconda2/lib/python2.7/site-packages/theano/sandbox/cuda/type.pyc\u001b[0m in \u001b[0;36mfilter_inplace\u001b[0;34m(self, data, old_data, strict, allow_downcast)\u001b[0m\n\u001b[1;32m    118\u001b[0m                 \u001b[0;32mif\u001b[0m \u001b[0mup_dtype\u001b[0m \u001b[0;34m==\u001b[0m \u001b[0mself\u001b[0m\u001b[0;34m.\u001b[0m\u001b[0mdtype\u001b[0m\u001b[0;34m:\u001b[0m\u001b[0;34m\u001b[0m\u001b[0m\n\u001b[1;32m    119\u001b[0m                     return cuda.filter(data, self.broadcastable,\n\u001b[0;32m--> 120\u001b[0;31m                                        strict, old_data)\n\u001b[0m\u001b[1;32m    121\u001b[0m                 \u001b[0;32melse\u001b[0m\u001b[0;34m:\u001b[0m\u001b[0;34m\u001b[0m\u001b[0m\n\u001b[1;32m    122\u001b[0m                     raise TypeError(\n",
      "\u001b[0;31mValueError\u001b[0m: ('object of too small depth for desired array', 'Container name \"W\"')"
     ]
    }
   ],
   "source": [
    "initializing_model(layers, params, svd_initialize=False, w2v_pretrained=word2vec.astype(np.float32))"
   ]
  },
  {
   "cell_type": "code",
   "execution_count": null,
   "metadata": {
    "collapsed": false
   },
   "outputs": [],
   "source": [
    "testing_model(test_data, test_model)"
   ]
  },
  {
   "cell_type": "code",
   "execution_count": null,
   "metadata": {
    "collapsed": false
   },
   "outputs": [],
   "source": [
    "fresult = 'example'\n",
    "training_model([train_data, valid_data, test_data], [train_model, valid_model, test_model], opts, learning_opts, fresult, params)"
   ]
  }
 ],
 "metadata": {
  "kernelspec": {
   "display_name": "Python 2",
   "language": "python",
   "name": "python2"
  },
  "language_info": {
   "codemirror_mode": {
    "name": "ipython",
    "version": 2
   },
   "file_extension": ".py",
   "mimetype": "text/x-python",
   "name": "python",
   "nbconvert_exporter": "python",
   "pygments_lexer": "ipython2",
   "version": "2.7.13"
  }
 },
 "nbformat": 4,
 "nbformat_minor": 0
}
